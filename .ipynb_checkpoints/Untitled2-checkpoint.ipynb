{
 "cells": [
  {
   "cell_type": "code",
   "execution_count": 1,
   "metadata": {},
   "outputs": [
    {
     "name": "stdout",
     "output_type": "stream",
     "text": [
      "2017~2019: 2017\n",
      "12,870\n",
      "136\n",
      "18,336\n",
      "동구 사건건수 : 1,575\n"
     ]
    }
   ],
   "source": [
    "import csv\n",
    "r = input('2017~2019: ')\n",
    "f = open('Daegu.csv',encoding = 'cp949')\n",
    "data = csv.reader(f)\n",
    "header = next(data)\n",
    "\n",
    "for i in data:\n",
    "    if r == i[0] and '사고건수' in i[1]:\n",
    "        b = i[2]\n",
    "        print(b)\n",
    "        \n",
    "    elif r == i[0] and '부상자수' in i[1]:\n",
    "        c = i[2]\n",
    "        print(c)\n",
    "        \n",
    "    elif r == i[0] and '사망건수' in i[1]:\n",
    "        d = i[2]\n",
    "        print(d)\n",
    "        \n",
    "f.close()\n",
    "\n",
    "#f = open('Daegu.csv',encoding = 'cp949')\n",
    "#data1 = csv.reader(f)\n",
    "#for i in date :\n",
    " #   if r == i[0] and '사건건수' in i[1] :\n",
    " #       dd= i[4]\n",
    "#        print(dd)\n",
    "\n",
    "import csv\n",
    "\n",
    "f = open('Daegu.csv',encoding = 'cp949')\n",
    "data = csv.reader(f)\n",
    "header = next(data)\n",
    "\n",
    "for i in data:\n",
    "    if r == i[0] and '사고건수' in i[1]:\n",
    "        ds = i[4]\n",
    "        print('동구 사건건수 :',ds)\n",
    "        \n",
    "    elif r == i[0] and ' 사망자수' in i[1]:\n",
    "        dss = i[4]\n",
    "        print('동구 사망건수 :',dss)\n",
    "        \n",
    "        \n",
    "f.close()\n",
    "\n",
    "\n",
    "\n",
    "\n",
    "\n",
    "#for i in date :\n",
    "  #  if t == i[4] and '사고건수' in i[1]:\n",
    " #       dd = i[4]\n",
    "#        print(dd)"
   ]
  }
 ],
 "metadata": {
  "kernelspec": {
   "display_name": "Python 3",
   "language": "python",
   "name": "python3"
  },
  "language_info": {
   "codemirror_mode": {
    "name": "ipython",
    "version": 3
   },
   "file_extension": ".py",
   "mimetype": "text/x-python",
   "name": "python",
   "nbconvert_exporter": "python",
   "pygments_lexer": "ipython3",
   "version": "3.8.5"
  }
 },
 "nbformat": 4,
 "nbformat_minor": 4
}
