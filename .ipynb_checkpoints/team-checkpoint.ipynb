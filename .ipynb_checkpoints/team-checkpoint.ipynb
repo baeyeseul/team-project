{
 "cells": [
  {
   "cell_type": "code",
   "execution_count": 38,
   "metadata": {
    "scrolled": true
   },
   "outputs": [
    {
     "name": "stdout",
     "output_type": "stream",
     "text": [
      "2017~2019: 2018\n"
     ]
    },
    {
     "name": "stderr",
     "output_type": "stream",
     "text": [
      "No handles with labels found to put in legend.\n"
     ]
    },
    {
     "name": "stdout",
     "output_type": "stream",
     "text": [
      "13,078\n",
      "111\n",
      "19,095\n",
      "217148 3781 323037\n"
     ]
    },
    {
     "data": {
      "image/png": "[encoded data removed]",
      "text/plain": [
       "<Figure size 432x288 with 1 Axes>"
      ]
     },
     "metadata": {
      "needs_background": "light"
     },
     "output_type": "display_data"
    }
   ],
   "source": [
    "import csv\n",
    "f = open('Daegu.csv',encoding = 'cp949')\n",
    "data = csv.reader(f)\n",
    "header = next(data)\n",
    "\n",
    "r = input('2017~2019: ')\n",
    "for i in data:\n",
    "    if r == i[0] and '사고건수' in i[1]:\n",
    "        b = i\n",
    "        print(b[2])\n",
    "        \n",
    "    elif r == i[0] and '부상자수' in i[1]:\n",
    "        c = i\n",
    "        print(c[2])\n",
    "        \n",
    "    elif r == i[0] and '사망건수' in i[1]:\n",
    "        d = i\n",
    "        print(d[2])\n",
    "        \n",
    "        \n",
    "    #if  \n",
    "f.close()\n",
    "\n",
    "f = open('Nationwide.csv',encoding = 'cp949')\n",
    "data1 = csv.reader(f)\n",
    "q = 0\n",
    "w = 0\n",
    "t = 0\n",
    "g = 0\n",
    "o = 0\n",
    "\n",
    "for m in data1:\n",
    "    if r == m[0]:\n",
    "        e = m\n",
    "        q = int(e[3])\n",
    "        w = int(e[4])\n",
    "        t = int(e[5])\n",
    "        k = q+w+t\n",
    "        o = int(e[1])\n",
    "        g = int(e[2])\n",
    "        print(o,g,k)\n",
    "        \n",
    "\n",
    "f.close()\n",
    "\n",
    "import matplotlib\n",
    "import matplotlib.pyplot as plt\n",
    "import numpy as np\n",
    "\n",
    "labels = ['G1', 'G2', 'G3']\n",
    "men_means = [b, c, d]\n",
    "women_means = [o, g, k]\n",
    "\n",
    "x = np.arange(len(labels))  # the label locations\n",
    "width = 0.35  # the width of the bars\n",
    "\n",
    "fig, ax = plt.subplots()\n",
    "#rects1 = ax.bar(x - width/2, men_means, width, label='Men')\n",
    "#rects2 = ax.bar(x + width/2, women_means, width, label='Women')\n",
    "\n",
    "# Add some text for labels, title and custom x-axis tick labels, etc.\n",
    "ax.set_ylabel('Scores')\n",
    "ax.set_title('Scores by group and gender')\n",
    "ax.set_xticks(x)\n",
    "ax.set_xticklabels(labels)\n",
    "ax.legend()\n",
    "\n",
    "#ax.bar_label(rects1, padding=3)\n",
    "#ax.bar_label(rects2, padding=3)\n",
    "\n",
    "fig.tight_layout()\n",
    "\n",
    "plt.show()\n"
   ]
  },
  {
   "cell_type": "code",
   "execution_count": null,
   "metadata": {},
   "outputs": [],
   "source": []
  },
  {
   "cell_type": "markdown",
   "metadata": {},
   "source": []
  }
 ],
 "metadata": {
  "kernelspec": {
   "display_name": "Python 3",
   "language": "python",
   "name": "python3"
  },
  "language_info": {
   "codemirror_mode": {
    "name": "ipython",
    "version": 3
   },
   "file_extension": ".py",
   "mimetype": "text/x-python",
   "name": "python",
   "nbconvert_exporter": "python",
   "pygments_lexer": "ipython3",
   "version": "3.8.5"
  }
 },
 "nbformat": 4,
 "nbformat_minor": 4
}
