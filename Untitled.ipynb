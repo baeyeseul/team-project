{
 "cells": [
  {
   "cell_type": "code",
   "execution_count": 4,
   "metadata": {},
   "outputs": [
    {
     "name": "stdout",
     "output_type": "stream",
     "text": [
      "2017 ~ 2019:2017\n"
     ]
    },
    {
     "ename": "AttributeError",
     "evalue": "'_csv.reader' object has no attribute 'replace'",
     "output_type": "error",
     "traceback": [
      "\u001b[1;31m---------------------------------------------------------------------------\u001b[0m",
      "\u001b[1;31mAttributeError\u001b[0m                            Traceback (most recent call last)",
      "\u001b[1;32m<ipython-input-4-e28d1a8079f7>\u001b[0m in \u001b[0;36m<module>\u001b[1;34m\u001b[0m\n\u001b[0;32m      7\u001b[0m \u001b[0mheader\u001b[0m \u001b[1;33m=\u001b[0m \u001b[0mnext\u001b[0m\u001b[1;33m(\u001b[0m\u001b[0mdata\u001b[0m\u001b[1;33m)\u001b[0m\u001b[1;33m\u001b[0m\u001b[1;33m\u001b[0m\u001b[0m\n\u001b[0;32m      8\u001b[0m \u001b[1;33m\u001b[0m\u001b[0m\n\u001b[1;32m----> 9\u001b[1;33m \u001b[0mdata_1\u001b[0m \u001b[1;33m=\u001b[0m \u001b[0mdata\u001b[0m\u001b[1;33m.\u001b[0m\u001b[0mreplace\u001b[0m\u001b[1;33m(\u001b[0m\u001b[1;34m','\u001b[0m\u001b[1;33m,\u001b[0m\u001b[1;34m''\u001b[0m\u001b[1;33m)\u001b[0m\u001b[1;33m\u001b[0m\u001b[1;33m\u001b[0m\u001b[0m\n\u001b[0m\u001b[0;32m     10\u001b[0m \u001b[1;33m\u001b[0m\u001b[0m\n\u001b[0;32m     11\u001b[0m \u001b[0mprint\u001b[0m\u001b[1;33m(\u001b[0m\u001b[0mtype\u001b[0m\u001b[1;33m(\u001b[0m\u001b[0mr\u001b[0m\u001b[1;33m)\u001b[0m\u001b[1;33m)\u001b[0m\u001b[1;33m\u001b[0m\u001b[1;33m\u001b[0m\u001b[0m\n",
      "\u001b[1;31mAttributeError\u001b[0m: '_csv.reader' object has no attribute 'replace'"
     ]
    }
   ],
   "source": [
    "import csv\n",
    "\n",
    "r = input('2017 ~ 2019:' )\n",
    "\n",
    "f = open('Daegu.csv',encoding = 'cp949')\n",
    "data = csv.reader(f)\n",
    "header = next(data)\n",
    "\n",
    "\n",
    "\n",
    "print(type(r))\n",
    "bb = 0\n",
    "cc = 0\n",
    "dd = 0\n",
    "\n",
    "for i in data:\n",
    "    if r == i[0] and '사고건수' in i[1]:\n",
    "        bb = i[2]\n",
    "        print(type(bb))\n",
    "        print(\"%s년도 사고건수 %s\"%(r,bb))\n",
    "        \n",
    "    elif r == i[0] and '부상자수' in i[1]:\n",
    "        cc = i[2]\n",
    "        print(\"%s년도 부상자수 %s\"%(r,cc))\n",
    "        \n",
    "    elif r == i[0] and '사망건수' in i[1]:\n",
    "        dd = i[2]\n",
    "        print(\"%s년도 사망건수 %s\"%(r,dd))\n",
    "    \n",
    "print(type(bb))\n",
    "print(type(cc))\n",
    "print(type(dd))\n",
    "f.close()\n",
    "\n",
    "f = open('drunk.csv',encoding = 'cp949')\n",
    "data1 = csv.reader(f)\n",
    "\n",
    "tt = 0\n",
    "\n",
    "for m in data1 :\n",
    "    if m[0] == '대구광역시'  and r == '2017':\n",
    "        tt = m[8]\n",
    "        print(\"%s년도 음주운전건수 %s\"%(r,tt))\n",
    "    elif m[0] == '대구광역시'  and r == '2018':\n",
    "        tt = m[11]\n",
    "        print(\"%s년도 음주운전건수 %s\"%(r,tt))\n",
    "    elif m[0] == '대구광역시'  and r == '2019':\n",
    "        tt = m[14]\n",
    "        print(\"%s년도 음주운전건수 %s\"%(r,tt))\n",
    "print(type(tt))\n",
    "\n",
    "\n",
    "f.close()\n",
    "\n",
    "import matplotlib.pyplot as plt\n",
    "#plt.rc('font',family = 'NanumGothic')\n",
    "plt.figure(figsize = (10,10))\n",
    "size = [bb,cc,dd,tt]\n",
    "label = ['qqq','qq2','qq3','qq4']\n",
    "#plt.axis('equal')\n",
    "plt.pie(size, labels = label, autopct = '%f%%',textprops={'fontsize':10},colors = 'colors')\n",
    "plt.legend()\n",
    "plt.show()"
   ]
  }
 ],
 "metadata": {
  "kernelspec": {
   "display_name": "Python 3",
   "language": "python",
   "name": "python3"
  },
  "language_info": {
   "codemirror_mode": {
    "name": "ipython",
    "version": 3
   },
   "file_extension": ".py",
   "mimetype": "text/x-python",
   "name": "python",
   "nbconvert_exporter": "python",
   "pygments_lexer": "ipython3",
   "version": "3.8.5"
  }
 },
 "nbformat": 4,
 "nbformat_minor": 4
}
